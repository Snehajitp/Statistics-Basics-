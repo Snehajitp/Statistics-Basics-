{
  "nbformat": 4,
  "nbformat_minor": 0,
  "metadata": {
    "colab": {
      "provenance": []
    },
    "kernelspec": {
      "name": "python3",
      "display_name": "Python 3"
    },
    "language_info": {
      "name": "python"
    }
  },
  "cells": [
    {
      "cell_type": "markdown",
      "source": [
        "# Statistics Basics Assignment"
      ],
      "metadata": {
        "id": "1byb3_93BhxM"
      }
    },
    {
      "cell_type": "markdown",
      "source": [
        "Question 1: What is the difference between descriptive statistics and inferential\n",
        "statistics? Explain with examples."
      ],
      "metadata": {
        "id": "X41xOyFhBhuE"
      }
    },
    {
      "cell_type": "markdown",
      "source": [
        "Answer - Descriptive statistics and inferential statistics are two important branches of statistics.\n",
        "\n",
        "Descriptive statistics is used to summarize and describe the main features of a dataset. It deals with measures like mean, median, mode, standard deviation and also includes graphs and charts. For example, if we calculate the average age of 100 students in a college and show their age distribution using a bar graph, it is descriptive statistics because we are only describing the collected data.\n",
        "\n",
        "Inferential statistics, on the other hand, is used to draw conclusions and make predictions about a larger population based on a sample of data. It includes methods like hypothesis testing, confidence intervals, and regression. For example, if we take a sample of 100 students from a university of 10,000 students and predict that the average age of all students in the university is around 21 years, it is inferential statistics because we are inferring information about the population.\n",
        "\n",
        "descriptive statistics helps to describe data, while inferential statistics helps to make decisions or predictions about the population."
      ],
      "metadata": {
        "id": "aLny8IaxFAWn"
      }
    },
    {
      "cell_type": "markdown",
      "source": [
        "Question 2: What is sampling in statistics? Explain the differences between random\n",
        "and stratified sampling.\n",
        "\n"
      ],
      "metadata": {
        "id": "9s89LihfBhlS"
      }
    },
    {
      "cell_type": "markdown",
      "source": [
        "Answer - Sampling in statistics is the process of selecting a small group (sample) from a large group (population) to study and make conclusions about the entire population. Since studying every individual in a population is often time-consuming and costly, sampling provides an easier and more practical way to analyze data.\n",
        "\n",
        "Random sampling is a method where every member of the population has an equal chance of being selected. For example, if we randomly select 50 students from a school of 1000 students by using a lottery method, it is random sampling.\n",
        "\n",
        "Stratified sampling is used when the population is divided into groups (called strata) based on specific characteristics such as age, gender, or income. Then, samples are taken from each group proportionally. For example, if a school has 60% boys and 40% girls, and we need a sample of 100 students, we will select 60 boys and 40 girls to maintain the proportion.\n",
        "\n",
        "random sampling gives equal chance to everyone, while stratified sampling ensures representation from all groups."
      ],
      "metadata": {
        "id": "TWF8VqisFKkO"
      }
    },
    {
      "cell_type": "markdown",
      "source": [
        "Question 3: Define mean, median, and mode. Explain why these measures of central\n",
        "tendency are important.\n",
        "\n"
      ],
      "metadata": {
        "id": "gxxR1_YhBhip"
      }
    },
    {
      "cell_type": "markdown",
      "source": [
        "Answer - In statistics, mean, median, and mode are called measures of central tendency because they describe the center or typical value of a dataset.\n",
        "\n",
        "Mean: It is the average of all values in a dataset. It is calculated by adding all the numbers and dividing by the total count. For example, for the numbers 2, 4, and 6, the mean is (2+4+6)/3 = 4.\n",
        "\n",
        "Median: It is the middle value when the data is arranged in order. If there is an even number of observations, the median is the average of the two middle values. For example, for the numbers 1, 3, 5, 7, the median is (3+5)/2 = 4.\n",
        "\n",
        "Mode: It is the value that occurs most frequently in the dataset. For example, in the numbers 2, 2, 3, 4, the mode is 2.\n",
        "\n",
        "These measures are important because they help us understand the typical or central value of the data. The mean gives an overall average, the median helps when data has extreme values (outliers), and the mode is useful for identifying the most common value.\n",
        "\n",
        "Together, they provide a clear summary of the dataset and are widely used in data analysis, business, and research."
      ],
      "metadata": {
        "id": "BOFpopjIFRuu"
      }
    },
    {
      "cell_type": "markdown",
      "source": [
        "Question 4: Explain skewness and kurtosis. What does a positive skew imply about the\n",
        "data?"
      ],
      "metadata": {
        "id": "ovpE_xXtBhfq"
      }
    },
    {
      "cell_type": "markdown",
      "source": [
        "Answer - Skewness and kurtosis are measures used to describe the shape of a data distribution.\n",
        "\n",
        "Skewness measures the asymmetry of the data around its mean.\n",
        "\n",
        "If the distribution is symmetrical, skewness = 0.\n",
        "\n",
        "Positive skew (right-skewed) means the tail on the right side is longer, and most data values are concentrated on the left.\n",
        "\n",
        "Negative skew (left-skewed) means the tail on the left side is longer, and most data values are on the right.\n",
        "\n",
        "Example: If most students score low marks but a few score very high, the data is positively skewed.\n",
        "\n",
        "Kurtosis measures the peakedness or flatness of a distribution compared to a normal distribution.\n",
        "\n",
        "High kurtosis: sharp peak (data concentrated around mean).\n",
        "\n",
        "Low kurtosis: flat distribution (data spread out).\n",
        "\n",
        "Example: Exam scores where most students score very close to the average have high kurtosis.\n",
        "\n",
        "Positive skew implication:\n",
        "\n",
        "The mean is greater than the median.\n",
        "\n",
        "There are some unusually high values (outliers) that pull the tail to the right.\n",
        "\n",
        "The majority of data values are smaller than the mean."
      ],
      "metadata": {
        "id": "4P865_gCFb-g"
      }
    },
    {
      "cell_type": "markdown",
      "source": [
        "Question 5: Implement a Python program to compute the mean, median, and mode of\n",
        "a given list of numbers.\n",
        "\n",
        "numbers = [12, 15, 12, 18, 19, 12, 20, 22, 19, 19, 24, 24, 24, 26, 28]\n",
        "\n",
        "\n",
        "\n"
      ],
      "metadata": {
        "id": "K3XGTa7OBhcy"
      }
    },
    {
      "cell_type": "code",
      "source": [
        "from statistics import mean, median, mode\n",
        "\n",
        "numbers = [12, 15, 12, 18, 19, 12, 20, 22, 19, 19, 24, 24, 24, 26, 28]\n",
        "\n",
        "mean_value = mean(numbers)\n",
        "median_value = median(numbers)\n",
        "mode_value = mode(numbers)\n",
        "\n",
        "print(\"Numbers:\", numbers)\n",
        "print(\"Mean:\", mean_value)\n",
        "print(\"Median:\", median_value)\n",
        "print(\"Mode:\", mode_value)\n"
      ],
      "metadata": {
        "colab": {
          "base_uri": "https://localhost:8080/"
        },
        "id": "fYQhggqEF8nW",
        "outputId": "e864b42f-ae14-4d90-d618-8b0d4cebe552"
      },
      "execution_count": 1,
      "outputs": [
        {
          "output_type": "stream",
          "name": "stdout",
          "text": [
            "Numbers: [12, 15, 12, 18, 19, 12, 20, 22, 19, 19, 24, 24, 24, 26, 28]\n",
            "Mean: 19.6\n",
            "Median: 19\n",
            "Mode: 12\n"
          ]
        }
      ]
    },
    {
      "cell_type": "markdown",
      "source": [
        "Question 6: Compute the covariance and correlation coefficient between the following\n",
        "two datasets provided as lists in Python:\n",
        "\n",
        "list_x = [10, 20, 30, 40, 50]\n",
        "\n",
        "list_y = [15, 25, 35, 45, 60]\n"
      ],
      "metadata": {
        "id": "y-C_FB1iBg75"
      }
    },
    {
      "cell_type": "code",
      "source": [
        "import numpy as np\n",
        "\n",
        "list_x = [10, 20, 30, 40, 50]\n",
        "list_y = [15, 25, 35, 45, 60]\n",
        "\n",
        "x = np.array(list_x)\n",
        "y = np.array(list_y)\n",
        "\n",
        "cov_matrix = np.cov(x, y)\n",
        "cov_xy = cov_matrix[0, 1]\n",
        "\n",
        "corr_matrix = np.corrcoef(x, y)\n",
        "corr_xy = corr_matrix[0, 1]\n",
        "\n",
        "print(\"Covariance between x and y:\", cov_xy)\n",
        "print(\"Correlation coefficient between x and y:\", corr_xy)\n"
      ],
      "metadata": {
        "colab": {
          "base_uri": "https://localhost:8080/"
        },
        "id": "N1lbT5jxGXLW",
        "outputId": "9fa4a023-5cc5-4c78-8b2f-4a536b8df932"
      },
      "execution_count": 2,
      "outputs": [
        {
          "output_type": "stream",
          "name": "stdout",
          "text": [
            "Covariance between x and y: 275.0\n",
            "Correlation coefficient between x and y: 0.995893206467704\n"
          ]
        }
      ]
    },
    {
      "cell_type": "markdown",
      "source": [
        "Question 7: Write a Python script to draw a boxplot for the following numeric list and\n",
        "identify its outliers. Explain the result:\n",
        "\n",
        "data = [12, 14, 14, 15, 18, 19, 19, 21, 22, 22, 23, 23, 24, 26, 29, 35]"
      ],
      "metadata": {
        "id": "ch3G5raABg4x"
      }
    },
    {
      "cell_type": "code",
      "source": [
        "import matplotlib.pyplot as plt\n",
        "import seaborn as sns\n",
        "\n",
        "data = [12, 14, 14, 15, 18, 19, 19, 21, 22, 22, 23, 23, 24, 26, 29, 35]\n",
        "\n",
        "sns.boxplot(data=data)\n",
        "plt.title(\"Boxplot of the Data\")\n",
        "plt.show()\n",
        "\n",
        "Q1 = np.percentile(data, 25)\n",
        "Q3 = np.percentile(data, 75)\n",
        "IQR = Q3 - Q1\n",
        "\n",
        "lower_bound = Q1 - 1.5 * IQR\n",
        "upper_bound = Q3 + 1.5 * IQR\n",
        "\n",
        "outliers = [x for x in data if x < lower_bound or x > upper_bound]\n",
        "\n",
        "print(\"Lower bound:\", lower_bound)\n",
        "print(\"Upper bound:\", upper_bound)\n",
        "print(\"Outliers in the data:\", outliers)\n"
      ],
      "metadata": {
        "colab": {
          "base_uri": "https://localhost:8080/",
          "height": 485
        },
        "id": "uznORVsFG0Dm",
        "outputId": "b1ef20de-bf9d-443b-d202-3d378eb19aab"
      },
      "execution_count": 3,
      "outputs": [
        {
          "output_type": "display_data",
          "data": {
            "text/plain": [
              "<Figure size 640x480 with 1 Axes>"
            ],
            "image/png": "[encoded data removed]"
          },
          "metadata": {}
        },
        {
          "output_type": "stream",
          "name": "stdout",
          "text": [
            "Lower bound: 8.25\n",
            "Upper bound: 32.25\n",
            "Outliers in the data: [35]\n"
          ]
        }
      ]
    },
    {
      "cell_type": "markdown",
      "source": [
        "Question 8: You are working as a data analyst in an e-commerce company. The\n",
        "marketing team wants to know if there is a relationship between advertising spend and\n",
        "daily sales."
      ],
      "metadata": {
        "id": "VUdaIcs9HoZ-"
      }
    },
    {
      "cell_type": "markdown",
      "source": [
        "● Explain how you would use covariance and correlation to explore this\n",
        "relationship.\n",
        "\n",
        "Answer - To explore the relationship between advertising spend and daily sales, we can use covariance and correlation:\n",
        "\n",
        "Covariance tells us how two variables change together.\n",
        "\n",
        "Positive covariance → when advertising spend increases, daily sales also increase.\n",
        "\n",
        "Negative covariance → one increases while the other decreases.\n",
        "\n",
        "Correlation coefficient measures the strength and direction of a linear relationship.\n",
        "\n",
        "Value close to +1 → strong positive relationship.\n",
        "\n",
        "Value close to -1 → strong negative relationship.\n",
        "\n",
        "Value near 0 → weak or no linear relationship.\n",
        "\n",
        "By computing these, we can quantify whether spending more on advertising is associated with higher daily sales.\n",
        "\n"
      ],
      "metadata": {
        "id": "hN73bwlOBg1q"
      }
    },
    {
      "cell_type": "code",
      "source": [
        "# ● Write Python code to compute the correlation between the two lists:\n",
        "# advertising_spend = [200, 250, 300, 400, 500]\n",
        "# daily_sales = [2200, 2450, 2750, 3200, 4000]\n",
        "\n",
        "import numpy as np\n",
        "advertising_spend = [200, 250, 300, 400, 500]\n",
        "daily_sales = [2200, 2450, 2750, 3200, 4000]\n",
        "\n",
        "x = np.array(advertising_spend)\n",
        "y = np.array(daily_sales)\n",
        "\n",
        "cov_matrix = np.cov(x, y)\n",
        "cov_xy = cov_matrix[0, 1]\n",
        "\n",
        "corr_matrix = np.corrcoef(x, y)\n",
        "corr_xy = corr_matrix[0, 1]\n",
        "\n",
        "print(\"Covariance:\", cov_xy)\n",
        "print(\"Correlation coefficient:\", corr_xy)\n"
      ],
      "metadata": {
        "colab": {
          "base_uri": "https://localhost:8080/"
        },
        "id": "HM_Gn7jXHQCF",
        "outputId": "28e36ff8-94fe-4b50-807a-291926aaedb1"
      },
      "execution_count": 4,
      "outputs": [
        {
          "output_type": "stream",
          "name": "stdout",
          "text": [
            "Covariance: 84875.0\n",
            "Correlation coefficient: 0.9935824101653329\n"
          ]
        }
      ]
    },
    {
      "cell_type": "markdown",
      "source": [
        "Question 9: Your team has collected customer satisfaction survey data on a scale of\n",
        "1-10 and wants to understand its distribution before launching a new product.\n",
        "\n",
        "\n"
      ],
      "metadata": {
        "id": "CCW1Xs1PBgy6"
      }
    },
    {
      "cell_type": "markdown",
      "source": [
        "● Explain which summary statistics and visualizations (e.g. mean, standard\n",
        "deviation, histogram) you’d use.\n",
        "\n",
        "Answer - To understand the distribution of customer satisfaction survey data, we can use the following summary statistics and visualizations:\n",
        "\n",
        "Mean – to find the average satisfaction score.\n",
        "\n",
        "Median – to identify the middle value of the survey responses.\n",
        "\n",
        "Mode – to see the most common score.\n",
        "\n",
        "Standard Deviation (SD) – to measure the spread of the scores.\n",
        "\n",
        "Histogram – to visualize the frequency of each score and see the overall distribution.\n",
        "\n",
        "By using these statistics and a histogram, we can quickly understand how customers feel about the product."
      ],
      "metadata": {
        "id": "z3ScGYiJBgvp"
      }
    },
    {
      "cell_type": "code",
      "source": [
        "# ● Write Python code to create a histogram using Matplotlib for the survey data:\n",
        "# survey_scores = [7, 8, 5, 9, 6, 7, 8, 9, 10, 4, 7, 6, 9, 8, 7]\n",
        "\n",
        "import matplotlib.pyplot as plt\n",
        "import numpy as np\n",
        "from statistics import mean, median, mode, stdev\n",
        "\n",
        "survey_scores = [7, 8, 5, 9, 6, 7, 8, 9, 10, 4, 7, 6, 9, 8, 7]\n",
        "\n",
        "mean_score = mean(survey_scores)\n",
        "median_score = median(survey_scores)\n",
        "mode_score = mode(survey_scores)\n",
        "std_dev = stdev(survey_scores)\n",
        "\n",
        "print(\"Mean:\", mean_score)\n",
        "print(\"Median:\", median_score)\n",
        "print(\"Mode:\", mode_score)\n",
        "print(\"Standard Deviation:\", std_dev)\n",
        "\n",
        "plt.hist(survey_scores, bins=range(4,12), edgecolor='black', alpha=0.7)\n",
        "plt.title(\"Customer Satisfaction Survey Scores\")\n",
        "plt.xlabel(\"Score\")\n",
        "plt.ylabel(\"Frequency\")\n",
        "plt.xticks(range(4, 11))\n",
        "plt.show()\n"
      ],
      "metadata": {
        "colab": {
          "base_uri": "https://localhost:8080/",
          "height": 541
        },
        "id": "JpvuyybjD0qg",
        "outputId": "ef02f9aa-daf6-4628-d453-41d12f2be405"
      },
      "execution_count": 5,
      "outputs": [
        {
          "output_type": "stream",
          "name": "stdout",
          "text": [
            "Mean: 7.333333333333333\n",
            "Median: 7\n",
            "Mode: 7\n",
            "Standard Deviation: 1.632993161855452\n"
          ]
        },
        {
          "output_type": "display_data",
          "data": {
            "text/plain": [
              "<Figure size 640x480 with 1 Axes>"
            ],
            "image/png": "[encoded data removed]"
          },
          "metadata": {}
        }
      ]
    },
    {
      "cell_type": "markdown",
      "source": [],
      "metadata": {
        "id": "K2S_e3LKBgqa"
      }
    },
    {
      "cell_type": "markdown",
      "source": [],
      "metadata": {
        "id": "Xg_bxS_6Bgfy"
      }
    },
    {
      "cell_type": "code",
      "execution_count": null,
      "metadata": {
        "id": "KXJZ3WKw3xqc"
      },
      "outputs": [],
      "source": []
    }
  ]
}